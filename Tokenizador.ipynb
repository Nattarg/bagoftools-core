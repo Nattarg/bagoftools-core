{
  "nbformat": 4,
  "nbformat_minor": 0,
  "metadata": {
    "colab": {
      "name": "Tokenizador.ipynb",
      "provenance": [],
      "collapsed_sections": [],
      "include_colab_link": true
    },
    "kernelspec": {
      "name": "python3",
      "display_name": "Python 3"
    }
  },
  "cells": [
    {
      "cell_type": "markdown",
      "metadata": {
        "id": "view-in-github",
        "colab_type": "text"
      },
      "source": [
        "<a href=\"https://colab.research.google.com/github/Nattarg/bagoftools-core/blob/master/Tokenizador.ipynb\" target=\"_parent\"><img src=\"https://colab.research.google.com/assets/colab-badge.svg\" alt=\"Open In Colab\"/></a>"
      ]
    },
    {
      "cell_type": "markdown",
      "metadata": {
        "id": "81Ikw4q40ocN",
        "colab_type": "text"
      },
      "source": [
        "#Separador silábico utilizando spaCy"
      ]
    },
    {
      "cell_type": "markdown",
      "metadata": {
        "id": "kD2hSPIS0ueY",
        "colab_type": "text"
      },
      "source": [
        "Primeiro importamos a biblioteca spacy e carregamos os arquivos para utilizar a biblioteca em português. "
      ]
    },
    {
      "cell_type": "markdown",
      "metadata": {
        "id": "m8eGxqp909c-",
        "colab_type": "text"
      },
      "source": [
        "Criamos então a função utilizada para separar as silabas de um determinado texto.Para tal, a função necessitará do pârametro 'texto'.\n",
        "```\n",
        "def tokenizador(texto):\n",
        "```\n",
        "Em sequencia carregamos as \"regras\" da linguagem utilizada na variavel nlp.\n",
        "```\n",
        "nlp = spacy.load('pt')\n",
        "```\n",
        "Assim transformamos o texto de string para doc e armazenamos este valor na variável doc.\n",
        "```\n",
        "doc = nlp(texto)\n",
        "```\n",
        "O próximo passo é criar uma lista que armazenará as sílabas.\n",
        "```\n",
        "tokens = []\n",
        "```\n",
        "Em seguida criamos um loop que irá \"varrer\" os tokens e retornar o valor dentro da variável sep.\n",
        "```\n",
        "for token in doc:\n",
        "  tokens.append(token)\n",
        "  return tokens;\n",
        "```\n",
        "Também foi criado uma função para teste do funcionamento do tokenizador. Porém diferente do caso anterior não se faz necessário nenhum parâmetro.\n",
        "```\n",
        "def Teste_Tokenizador():\n",
        "```\n",
        "O código é bem simples, ele define o texto e exibi o texto pré-definido para o usuário.\n",
        "```\n",
        "texto = 'Texto para teste do tokenizador!'\n",
        "print(Tokenizador(texto))\n",
        "```\n"
      ]
    },
    {
      "cell_type": "code",
      "metadata": {
        "id": "VlP0ht5Szp8E",
        "colab_type": "code",
        "colab": {}
      },
      "source": [
        "import spacy\n",
        "! python -m spacy download pt"
      ],
      "execution_count": 0,
      "outputs": []
    },
    {
      "cell_type": "code",
      "metadata": {
        "id": "QQCP8sZ0zxlz",
        "colab_type": "code",
        "colab": {}
      },
      "source": [
        "def Tokenizador(texto):\n",
        "  nlp = spacy.load('pt')\n",
        "  doc = nlp(texto)\n",
        "  tokens = []\n",
        "  for token in doc:\n",
        "    tokens.append(token)\n",
        "  return tokens;"
      ],
      "execution_count": 0,
      "outputs": []
    },
    {
      "cell_type": "code",
      "metadata": {
        "id": "6KAEBamE0Imd",
        "colab_type": "code",
        "colab": {}
      },
      "source": [
        "def Teste_Tokenizador():\n",
        "  texto = 'Texto para teste do tokenizador!'\n",
        "  print(Tokenizador(texto))"
      ],
      "execution_count": 0,
      "outputs": []
    },
    {
      "cell_type": "code",
      "metadata": {
        "id": "3kKYGw6r0XnF",
        "colab_type": "code",
        "outputId": "4e97dbf4-2696-45b6-e10f-14ef3f9e9782",
        "colab": {
          "base_uri": "https://localhost:8080/",
          "height": 34
        }
      },
      "source": [
        "Teste_Tokenizador()"
      ],
      "execution_count": 10,
      "outputs": [
        {
          "output_type": "stream",
          "text": [
            "[Texto, para, teste, do, tokenizador, !]\n"
          ],
          "name": "stdout"
        }
      ]
    }
  ]
}